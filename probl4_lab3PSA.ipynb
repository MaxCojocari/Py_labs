{
  "nbformat": 4,
  "nbformat_minor": 0,
  "metadata": {
    "colab": {
      "name": "probl4_lab3PSA.ipynb",
      "provenance": [],
      "authorship_tag": "ABX9TyPypCCDzJaO5djItQmAJTad",
      "include_colab_link": true
    },
    "kernelspec": {
      "name": "python3",
      "display_name": "Python 3"
    },
    "language_info": {
      "name": "python"
    }
  },
  "cells": [
    {
      "cell_type": "markdown",
      "metadata": {
        "id": "view-in-github",
        "colab_type": "text"
      },
      "source": [
        "<a href=\"https://colab.research.google.com/github/MaxCojocari/Py_labs/blob/main/probl4_lab3PSA.ipynb\" target=\"_parent\"><img src=\"https://colab.research.google.com/assets/colab-badge.svg\" alt=\"Open In Colab\"/></a>"
      ]
    },
    {
      "cell_type": "markdown",
      "source": [
        "# **4. Networking**"
      ],
      "metadata": {
        "id": "8UKeLIxRKFKT"
      }
    },
    {
      "cell_type": "code",
      "execution_count": null,
      "metadata": {
        "colab": {
          "base_uri": "https://localhost:8080/"
        },
        "id": "iNBiEU4dq8UA",
        "outputId": "97bdccd6-236d-4cdb-8f8b-14ca2fe5f08c"
      },
      "outputs": [
        {
          "output_type": "stream",
          "name": "stdout",
          "text": [
            "Drive already mounted at /content/drive; to attempt to forcibly remount, call drive.mount(\"/content/drive\", force_remount=True).\n"
          ]
        }
      ],
      "source": [
        "from google.colab import drive\n",
        "drive.mount('/content/drive')"
      ]
    },
    {
      "cell_type": "code",
      "source": [
        "import re\n",
        "import json\n",
        "\n",
        "tweet_json = open('/content/drive/MyDrive/matematica/tweets.json').read()\n",
        "\n",
        "tweet_dataset = json.loads(tweet_json)"
      ],
      "metadata": {
        "id": "8yorDVAArVxR",
        "cellView": "code"
      },
      "execution_count": null,
      "outputs": []
    },
    {
      "cell_type": "code",
      "source": [
        "def clean_text(text):\n",
        "    #to avoid removing contractions in english\n",
        "    #temp = re.sub(\"'\", \"\", text)\n",
        "\n",
        "    #remove all mentions\n",
        "    temp = re.sub(\"@\",\"\", text)\n",
        "\n",
        "    #remove all hashtags\n",
        "    temp = re.sub(\"#\",\"\", temp)\n",
        "    \n",
        "    #remove all links\n",
        "    temp = re.sub(r'http\\S+', '', temp) \n",
        "    temp = re.sub(r\"www.\\S+\", \"\", temp)\n",
        "\n",
        "    #remove punctuations\n",
        "    temp = re.sub('[()!?]', ' ', temp)\n",
        "    temp = re.sub('\\[.*?\\]',' ', temp)\n",
        "\n",
        "    #remove all non-alphanumeric characters\n",
        "    temp = re.sub(\"[^a-zA-Z0-9]\",\" \", temp)\n",
        "\n",
        "    return temp"
      ],
      "metadata": {
        "id": "IuYVY1eurv6e"
      },
      "execution_count": null,
      "outputs": []
    },
    {
      "cell_type": "markdown",
      "source": [
        "# **4.1 Popular**\n",
        "\n",
        "Write a program that prints the first 10 most frequently used words, and the number\n",
        "of times it was mentioned.\n",
        "\n",
        "Ex:\n",
        "\n",
        "the 352\n",
        "\n",
        "a 235\n",
        "\n",
        "at 120\n",
        "\n",
        ". . ."
      ],
      "metadata": {
        "id": "mLxPMLqaETwr"
      }
    },
    {
      "cell_type": "code",
      "source": [
        "def find_words(tweet_dataset, all_words = {}):\n",
        "    for tweet in tweet_dataset:\n",
        "        #lowercase all words\n",
        "        #temp = tweet['text'].lower() \n",
        "        \n",
        "        temp = clean_text(tweet['text'])\n",
        "\n",
        "        #tokenize string\n",
        "        temp = temp.split()\n",
        "\n",
        "        #for each word in string\n",
        "        for word in temp:\n",
        "\n",
        "            #if word already exists in dictionary, increment the coresponding value\n",
        "            if word in all_words:\n",
        "                all_words[word] += 1\n",
        "            \n",
        "            #else append new word in dictionary\n",
        "            else:\n",
        "                all_words.update({word: 1})\n",
        "    \n",
        "    return all_words\n",
        "\n",
        "all_words = find_words(tweet_dataset)"
      ],
      "metadata": {
        "id": "8VK6VRfxsgrU"
      },
      "execution_count": null,
      "outputs": []
    },
    {
      "cell_type": "code",
      "source": [
        "def sort_dict_value(mydict):\n",
        "    return dict(sorted(mydict.items(), key = lambda x: x[1], reverse = True))\n",
        "\n",
        "all_words_sorted = sort_dict_value(all_words)"
      ],
      "metadata": {
        "id": "oDCwIhiRslYo"
      },
      "execution_count": null,
      "outputs": []
    },
    {
      "cell_type": "code",
      "source": [
        "print(\"Ten most popular words:\")\n",
        "for i in range(10):\n",
        "   print(list(all_words_sorted.keys())[i], list(all_words_sorted.values())[i])"
      ],
      "metadata": {
        "colab": {
          "base_uri": "https://localhost:8080/"
        },
        "id": "-FRDhj0hsqOe",
        "outputId": "6ab559de-d323-46d7-e8a1-81242d3cc691"
      },
      "execution_count": null,
      "outputs": [
        {
          "output_type": "stream",
          "name": "stdout",
          "text": [
            "Ten most popular words:\n",
            "the 1205\n",
            "I 1045\n",
            "a 891\n",
            "is 848\n",
            "to 805\n",
            "of 669\n",
            "RT 549\n",
            "it 542\n",
            "you 533\n",
            "in 495\n"
          ]
        }
      ]
    },
    {
      "cell_type": "markdown",
      "source": [
        "# **4.2 Nouns**\n",
        "\n",
        "Write a program that prints the first 10 most frequently used nouns, and the number\n",
        "of times it was mentioned."
      ],
      "metadata": {
        "id": "3Wc6Cx1aEpJ6"
      }
    },
    {
      "cell_type": "code",
      "source": [
        "import nltk\n",
        "#nltk.download()\n",
        "from nltk.corpus import stopwords\n",
        "from nltk.tokenize import word_tokenize, sent_tokenize\n",
        "\n",
        "stop_words = set(stopwords.words('english'))\n",
        "\n",
        "def select_special_nouns(tweet_dataset, noun_taglist, all_nouns):\n",
        "    for tweet in tweet_dataset:\n",
        "        \n",
        "        temp = clean_text(tweet['text'])\n",
        "\n",
        "        tokenized = sent_tokenize(temp)\n",
        "        \n",
        "        for i in tokenized:\n",
        "            \n",
        "            # Word tokenizers is used to find the words and punctuation in a string\n",
        "            wordsList = nltk.word_tokenize(i)\n",
        "        \n",
        "            # removing stop words from wordList\n",
        "            wordsList = [w for w in wordsList if w.lower() not in stop_words] \n",
        "        \n",
        "            # Using a Tagger. Which is part-of-speech tagger or POS-tagger. \n",
        "            tagged = nltk.pos_tag(wordsList)\n",
        "\n",
        "            for pair in tagged:\n",
        "                if pair[1] in noun_taglist:\n",
        "                    if pair[0] in all_nouns:\n",
        "                        all_nouns[pair[0]] += 1\n",
        "                    else:\n",
        "                        all_nouns.update({pair[0]: 1})\n"
      ],
      "metadata": {
        "id": "poN0tx7EsvcO"
      },
      "execution_count": null,
      "outputs": []
    },
    {
      "cell_type": "code",
      "source": [
        "noun_taglist = ['NN', 'NNS', 'NNP', 'NNPS']\n",
        "all_nouns = {}\n",
        "select_special_nouns(tweet_dataset, noun_taglist, all_nouns)\n",
        "all_nouns_sorted = sort_dict_value(all_nouns)"
      ],
      "metadata": {
        "id": "gPrUXSsQ5do6"
      },
      "execution_count": null,
      "outputs": []
    },
    {
      "cell_type": "code",
      "source": [
        "print(\"Ten most popular nouns:\")\n",
        "for i in range(10):\n",
        "   print(list(all_nouns_sorted.keys())[i], list(all_nouns_sorted.values())[i])"
      ],
      "metadata": {
        "id": "l961qCy8s22_",
        "colab": {
          "base_uri": "https://localhost:8080/"
        },
        "outputId": "44d04b8e-17d1-4ccb-b520-16da2b0fba8c"
      },
      "execution_count": null,
      "outputs": [
        {
          "output_type": "stream",
          "name": "stdout",
          "text": [
            "Ten most popular nouns:\n",
            "RT 547\n",
            "time 110\n",
            "people 89\n",
            "textfiles 74\n",
            "work 67\n",
            "thing 65\n",
            "Nick 56\n",
            "Craver 56\n",
            "year 49\n",
            "years 48\n"
          ]
        }
      ]
    },
    {
      "cell_type": "markdown",
      "source": [
        "# **4.3 Proper nouns**\n",
        "\n",
        "Write a program that prints the first 10 most frequently used **proper nouns**, and the\n",
        "number of times it was mentioned."
      ],
      "metadata": {
        "id": "va9xo6GcE3dh"
      }
    },
    {
      "cell_type": "code",
      "source": [
        "proper_noun_taglist = ['NNP', 'NNPS']\n",
        "all_proper_nouns = {}\n",
        "select_special_nouns(tweet_dataset, proper_noun_taglist, all_proper_nouns)\n",
        "all_proper_nouns_sorted = sort_dict_value(all_proper_nouns)"
      ],
      "metadata": {
        "id": "nuwaImI_12-Z"
      },
      "execution_count": null,
      "outputs": []
    },
    {
      "cell_type": "code",
      "source": [
        "print(\"Ten most popular proper nouns:\")\n",
        "for i in range(10):\n",
        "   print(list(all_proper_nouns_sorted.keys())[i], list(all_proper_nouns_sorted.values())[i])"
      ],
      "metadata": {
        "colab": {
          "base_uri": "https://localhost:8080/"
        },
        "id": "s3Ug_mpX53t8",
        "outputId": "74dab4c0-3ff8-40c5-9128-69dfc386707b"
      },
      "execution_count": null,
      "outputs": [
        {
          "output_type": "stream",
          "name": "stdout",
          "text": [
            "Ten most popular proper nouns:\n",
            "RT 547\n",
            "Nick 56\n",
            "Craver 56\n",
            "JasonPunyon 39\n",
            "Apple 32\n",
            "Beschizza 30\n",
            "Android 29\n",
            "Pro 26\n",
            "Discourse 24\n",
            "Twitter 24\n"
          ]
        }
      ]
    },
    {
      "cell_type": "markdown",
      "source": [
        "# **4.4 Frequency**\n",
        "\n",
        "Write a program that receives a word as an input and draws a frequency bar chart.\n",
        "Every bar should represent the period of 1 month."
      ],
      "metadata": {
        "id": "DERuFDHzGoph"
      }
    },
    {
      "cell_type": "code",
      "source": [
        "from nltk.stem import PorterStemmer\n",
        "ps = PorterStemmer()\n",
        "def find_frequency_of_word(tweet_dataset, words_month_frequency):\n",
        "    \n",
        "    for tweet in tweet_dataset:\n",
        "        #lowercase all words\n",
        "        temp = tweet['text'].lower() \n",
        "\n",
        "        temp = clean_text(temp)\n",
        "\n",
        "        #tokenize string\n",
        "        temp = temp.split()\n",
        "\n",
        "        for word in temp:\n",
        "\n",
        "            #remove sufixes, prefixes, and reduce to root form (stemming)\n",
        "            word = ps.stem(word)\n",
        "\n",
        "            #if word exists in dictionary\n",
        "            if word in words_month_frequency:\n",
        "\n",
        "                #and the coresponding date is also in that dictionary of that word\n",
        "                if tweet['created_at'][0:7] in words_month_frequency[word]:\n",
        "\n",
        "                    #increment the number\n",
        "                    words_month_frequency[word][tweet['created_at'][0:7]] += 1\n",
        "                \n",
        "                #append new date in that dictionary of that specific word\n",
        "                else:\n",
        "                    words_month_frequency[word].update({tweet['created_at'][0:7]: 1})\n",
        "            \n",
        "            #append new word and date of tweet publication\n",
        "            else:\n",
        "                words_month_frequency.update({word: {tweet['created_at'][0:7]: 1}})\n",
        "\n"
      ],
      "metadata": {
        "id": "Ht1eTAisLVUS"
      },
      "execution_count": null,
      "outputs": []
    },
    {
      "cell_type": "code",
      "source": [
        "words_month_frequency = {}\n",
        "find_frequency_of_word(tweet_dataset, words_month_frequency)\n",
        "# for key, value in words_month_frequency.items():\n",
        "#     print(\"{} {}\".format(key, value))"
      ],
      "metadata": {
        "id": "9-6kJslNUO2J"
      },
      "execution_count": null,
      "outputs": []
    },
    {
      "cell_type": "code",
      "source": [
        "import matplotlib.pyplot as plt\n",
        "\n",
        "word = input()\n",
        "\n",
        "#lowercase the input word\n",
        "temp = word.lower()\n",
        "\n",
        "#to avoid removing contractions in english\n",
        "temp = re.sub(\"'\", \"\", temp)\n",
        "\n",
        "#remove all non-alphanumeric characters\n",
        "temp = re.sub(\"[^a-z0-9]\",\"\", temp)\n",
        "\n",
        "#reduce to root form\n",
        "temp = ps.stem(temp)\n",
        "\n",
        "if temp in words_month_frequency:\n",
        "    months = [key for key in words_month_frequency[temp].keys()]\n",
        "    number_of_that_word_month = [value for value in words_month_frequency[temp].values()]\n",
        "    months.reverse(); number_of_that_word_month.reverse();\n",
        "\n",
        "    plt.figure(dpi=150)\n",
        "    plt.bar(months, number_of_that_word_month, color=(0.7, 0.6, 0.9, 1.0))\n",
        "    plt.title(f'Frequency bar chart for word \"{word}\"')\n",
        "    plt.xlabel('Months')\n",
        "    plt.ylabel('Frequency')\n",
        "    plt.show()\n",
        "\n",
        "else:\n",
        "    print('This word doesn\\'t exist in tweets\\' texts!')"
      ],
      "metadata": {
        "colab": {
          "base_uri": "https://localhost:8080/",
          "height": 611
        },
        "id": "K76hUSTdUdfl",
        "outputId": "2d3dad4c-0183-4455-e732-3356f15bedc7"
      },
      "execution_count": null,
      "outputs": [
        {
          "name": "stdout",
          "output_type": "stream",
          "text": [
            "game\n"
          ]
        },
        {
          "output_type": "display_data",
          "data": {
            "image/png": "[encoded data removed]",
            "text/plain": [
              "<Figure size 900x600 with 1 Axes>"
            ]
          },
          "metadata": {
            "needs_background": "light"
          }
        }
      ]
    },
    {
      "cell_type": "markdown",
      "source": [
        "# **4.5 Popularity**\n",
        "\n",
        "In our dataset we also have the number of likes and retweets for every message. This can give us some insight about the tweet popularity. Hence we can compute some sort of rating. The popularity of nouns is computed by the following formula frequency * (1.4 + normRetweet) * (1.2 + normLikes). The values normRetweet and normLikes are the normalized values of retweets and likes for every word. To compute the number of likes and retweets for every word you just cumulatively collect the numbers from every tweet that the word was mentioned.\n",
        "\n",
        "Ex: There are 2 tweets that mention the noun program. First tweet has 32 retweets and 87 likes. The second tweet has 42 retweets and 103 likes. The number of retweets of the word program is 32 + 42 and the number of likes is 87 + 103.\n",
        "\n",
        "Write a program that prints the first 10 most popular nouns. The popularity is defined by the computed rating discussed above."
      ],
      "metadata": {
        "id": "4GOocnPcG7ru"
      }
    },
    {
      "cell_type": "code",
      "source": [
        "def select_data_noun_popularity(tweet_dataset, noun_taglist, retweet_likes_tweets, all_nouns):\n",
        "    for tweet in tweet_dataset:\n",
        "        \n",
        "        temp = clean_text(tweet['text'])\n",
        "\n",
        "        tokenized = sent_tokenize(temp)\n",
        "        \n",
        "        for i in tokenized:\n",
        "            \n",
        "            # Word tokenizers is used to find the words and punctuation in a string\n",
        "            wordsList = nltk.word_tokenize(i)\n",
        "        \n",
        "            # removing stop words from wordList\n",
        "            wordsList = [w for w in wordsList if w.lower() not in stop_words] \n",
        "        \n",
        "            # Using a Tagger. Which is part-of-speech tagger or POS-tagger. \n",
        "            tagged = nltk.pos_tag(wordsList)\n",
        "\n",
        "\n",
        "            #{word: {retweets: x, likes: y, frequency: z}}        pair = (word, tag)\n",
        "\n",
        "\n",
        "            for pair in tagged:\n",
        "                if pair[1] in noun_taglist:\n",
        "                    if pair[0] in retweet_likes_tweets:\n",
        "                        retweet_likes_tweets[pair[0]]['retweets'] += tweet['retweets']\n",
        "                        retweet_likes_tweets[pair[0]]['likes'] += tweet['likes']\n",
        "                    else:\n",
        "                        retweet_likes_tweets.update({pair[0]: {'retweets': tweet['retweets'], 'likes': tweet['likes'], 'frequency': all_nouns[pair[0]]}})\n"
      ],
      "metadata": {
        "id": "EzV4rrtHWYIC"
      },
      "execution_count": null,
      "outputs": []
    },
    {
      "cell_type": "code",
      "source": [
        "retweet_likes_tweets_dict = {}\n",
        "select_data_noun_popularity(tweet_dataset, noun_taglist, retweet_likes_tweets_dict, all_nouns)\n",
        "# for key, value in retweet_likes_tweets_dict.items():\n",
        "#     print(\"{} {}\".format(key, value))"
      ],
      "metadata": {
        "id": "eNPogDtgoZR_"
      },
      "execution_count": null,
      "outputs": []
    },
    {
      "cell_type": "code",
      "source": [
        "popularity_nouns = {}\n",
        "for key, value in retweet_likes_tweets_dict.items():\n",
        "    popularity = value['frequency']*(1.4 + value['retweets'])*(1.2 + value['likes'])\n",
        "    popularity_nouns.update({key: popularity})"
      ],
      "metadata": {
        "id": "t-Rj0xDxpAFi"
      },
      "execution_count": null,
      "outputs": []
    },
    {
      "cell_type": "code",
      "source": [
        "popularity_nouns_sorted = sort_dict_value(popularity_nouns)\n",
        "print(\"Ten most popular nouns:\")\n",
        "for i in range(10):\n",
        "   print(list(popularity_nouns_sorted.keys())[i], list(popularity_nouns_sorted.values())[i])"
      ],
      "metadata": {
        "colab": {
          "base_uri": "https://localhost:8080/"
        },
        "id": "zDPXhQk3CchO",
        "outputId": "6fcf7e8e-3790-40d1-e408-66e2621cb0e9"
      },
      "execution_count": null,
      "outputs": [
        {
          "output_type": "stream",
          "name": "stdout",
          "text": [
            "Ten most popular nouns:\n",
            "time 73747539720.8\n",
            "thing 10597205143.199999\n",
            "people 8966792015.12\n",
            "years 1896755159.0399997\n",
            "year 1301841313.92\n",
            "kids 1113305163.2\n",
            "work 978190330.56\n",
            "software 773893157.5999999\n",
            "way 674238541.6800001\n",
            "things 649291902.48\n"
          ]
        }
      ]
    },
    {
      "cell_type": "markdown",
      "source": [
        "# **4.6 Suggestion**\n",
        "\n",
        "Write a program that receives as input an uncompleted word and prints 3 word suggestions, followed by their frequency. The suggestions should be based on the initial dataset and sorted by the word frequency, computed in the first problem.\n",
        "The input can be any uncompleted word.\n",
        "\n",
        "\n",
        "Ex. Input: *app*, Output: *application* (324), *apple* (164), *appreciate* (53). Where *application* has the highest frequency, apple the second highest etc.\n",
        "\n",
        "Ex. Input: *pro*, Output: *programming* (196), *product* (176), *program* (103). Again *programming* has\n",
        "the highest frequency."
      ],
      "metadata": {
        "id": "u9_uXQNHIJCC"
      }
    },
    {
      "cell_type": "code",
      "source": [
        "uncomplete_word = input()\n",
        "sugestions = {}\n",
        "for key in all_words_sorted.keys():\n",
        "    if key[:len(uncomplete_word)].lower() == uncomplete_word.lower():\n",
        "        sugestions.update({key: all_words_sorted[key]})\n",
        "\n",
        "n = len(sugestions)\n",
        "\n",
        "if n == 0:\n",
        "    print(\"We cannot suggest anything :(\")\n",
        "elif n in [1, 2]:\n",
        "    for i in range(n):\n",
        "        print(list(sugestions.keys())[i], list(sugestions.values())[i])\n",
        "else:\n",
        "    for i in range(3):\n",
        "        print(list(sugestions.keys())[i], list(sugestions.values())[i])"
      ],
      "metadata": {
        "colab": {
          "base_uri": "https://localhost:8080/"
        },
        "id": "J6Fv53SLFMZp",
        "outputId": "fcd16df7-c481-4cc6-f650-cace22163023"
      },
      "execution_count": null,
      "outputs": [
        {
          "output_type": "stream",
          "name": "stdout",
          "text": [
            "game\n",
            "game 37\n",
            "games 11\n",
            "Game 5\n"
          ]
        }
      ]
    },
    {
      "cell_type": "markdown",
      "source": [
        "# **4.7 Suggestion occurrences**\n",
        "\n",
        "Write a program that receives as input a word and prints 3 word suggestions, followed by the suggestion occurrences.\n",
        "\n",
        "\n",
        "The suggestions should be selected in the following way. You have to go through your tweets dataset and identify every occurrence of the input word. At every occurrence collect the word that follows the input word. That is the suggestion you\n",
        "are looking for. And also don't forget to count the number of times you get the same\n",
        "suggestions. Ex: input like and you find 5 occurrences of beer and 2 occurrences of\n",
        "love labs. Your suggestion words would be beer and labs. But beer has a priority\n",
        "because it occurred more times in your dataset. \n",
        "\n",
        "Your task is to select the most relevant suggestions as in the one that occurred the most.\n",
        "The input can be any completed word.\n",
        "\n",
        "Ex. Input: *love*, Output: *programming* (5), *cars* (2), *beer* (2)\n",
        "\n",
        "Ex. Input: *awesome*, Output: *party* (10), *language* (4), *framework* (2)"
      ],
      "metadata": {
        "id": "YqSxNOzOI50Q"
      }
    },
    {
      "cell_type": "code",
      "source": [
        "def suggestion_occurance(word, tweet_dataset):\n",
        "    suggestions = {}\n",
        "    for tweet in tweet_dataset:\n",
        "\n",
        "        temp = tweet['text'].lower()\n",
        "        \n",
        "        temp = clean_text(temp)\n",
        "\n",
        "        tokenized = sent_tokenize(temp)\n",
        "\n",
        "        for i in tokenized:\n",
        "            \n",
        "            # Word tokenizers is used to find the words and punctuation in a string\n",
        "            wordsList = nltk.word_tokenize(i)\n",
        "\n",
        "            # removing stop words from wordList\n",
        "            #wordsList = [w for w in wordsList if w.lower() not in stop_words]\n",
        "\n",
        "        if word in wordsList and word != wordsList[-1]:\n",
        "            \n",
        "            k = wordsList.index(word)\n",
        "            if wordsList[k+1] in suggestions:\n",
        "                suggestions[wordsList[k+1]] += 1\n",
        "            else:\n",
        "                suggestions.update({wordsList[k+1]: 1})\n",
        "        \n",
        "        elif word.lower() in wordsList and word.lower() != wordsList[-1]:\n",
        "            \n",
        "            word = word.lower()\n",
        "            k = wordsList.index(word)\n",
        "            if wordsList[k+1] in suggestions:\n",
        "                suggestions[wordsList[k+1]] += 1\n",
        "            else:\n",
        "                suggestions.update({wordsList[k+1]: 1})\n",
        "    \n",
        "    return sort_dict_value(suggestions)\n",
        "            \n"
      ],
      "metadata": {
        "id": "0Cbs-YK0KN7T"
      },
      "execution_count": null,
      "outputs": []
    },
    {
      "cell_type": "code",
      "source": [
        "word = input()\n",
        "suggestions_by_occurance = suggestion_occurance(word, tweet_dataset)\n",
        "\n",
        "\n",
        "n = len(suggestions_by_occurance)\n",
        "\n",
        "if n == 0:\n",
        "    print(\"We cannot suggest anything :(\")\n",
        "elif n in [1, 2]:\n",
        "    for i in range(n):\n",
        "        print(list(suggestions_by_occurance.keys())[i], list(suggestions_by_occurance.values())[i])\n",
        "else:\n",
        "    for i in range(3):\n",
        "        print(list(suggestions_by_occurance.keys())[i], list(suggestions_by_occurance.values())[i])\n"
      ],
      "metadata": {
        "colab": {
          "base_uri": "https://localhost:8080/"
        },
        "id": "aKR8-otUWW2G",
        "outputId": "1b60d931-c778-4d91-819e-e2102f95f65d"
      },
      "execution_count": null,
      "outputs": [
        {
          "output_type": "stream",
          "name": "stdout",
          "text": [
            "love\n",
            "the 4\n",
            "you 3\n",
            "with 2\n"
          ]
        }
      ]
    },
    {
      "cell_type": "code",
      "source": [
        ""
      ],
      "metadata": {
        "id": "B8H-Pyf0aCIr"
      },
      "execution_count": null,
      "outputs": []
    }
  ]
}