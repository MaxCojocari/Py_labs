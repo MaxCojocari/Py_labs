{
  "nbformat": 4,
  "nbformat_minor": 0,
  "metadata": {
    "colab": {
      "name": "probl3_MD2.ipynb",
      "provenance": [],
      "authorship_tag": "ABX9TyOucaPB3jHXtdNUeq/vlpDO",
      "include_colab_link": true
    },
    "kernelspec": {
      "name": "python3",
      "display_name": "Python 3"
    },
    "language_info": {
      "name": "python"
    }
  },
  "cells": [
    {
      "cell_type": "markdown",
      "metadata": {
        "id": "view-in-github",
        "colab_type": "text"
      },
      "source": [
        "<a href=\"https://colab.research.google.com/github/MaxCojocari/Py_labs/blob/main/probl3_MD2.ipynb\" target=\"_parent\"><img src=\"https://colab.research.google.com/assets/colab-badge.svg\" alt=\"Open In Colab\"/></a>"
      ]
    },
    {
      "cell_type": "markdown",
      "source": [
        "# **3. Matrix**\n",
        "\n",
        "You have a set of 20 people connected via a friendship matrix. The whole list is given in\n",
        "*matrix.txt.*."
      ],
      "metadata": {
        "id": "4NCHb28kPWaa"
      }
    },
    {
      "cell_type": "code",
      "execution_count": null,
      "metadata": {
        "id": "YrqD15piO4eq",
        "colab": {
          "base_uri": "https://localhost:8080/"
        },
        "outputId": "9fe5c391-5df5-4e81-c66d-97042d5d25c6"
      },
      "outputs": [
        {
          "output_type": "stream",
          "name": "stdout",
          "text": [
            "Mounted at /content/drive\n"
          ]
        }
      ],
      "source": [
        "from google.colab import drive\n",
        "drive.mount('/content/drive')"
      ]
    },
    {
      "cell_type": "markdown",
      "source": [
        "# **3.1 Friends**\n",
        "Find the person with the most friends."
      ],
      "metadata": {
        "id": "IiySLTY2Pp-J"
      }
    },
    {
      "cell_type": "code",
      "source": [
        "import re\n",
        "from collections import deque"
      ],
      "metadata": {
        "id": "zW9qkotwPX-3"
      },
      "execution_count": null,
      "outputs": []
    },
    {
      "cell_type": "code",
      "source": [
        "#Create a list for vertices\n",
        "def read_vertices(fl = open('/content/drive/MyDrive/matematica/matrix.txt', 'r'), \n",
        "                  vertices = []):\n",
        "    first_line = fl.readline()\n",
        "    for x in re.split('\\t|\\n| \\| ', first_line): \n",
        "        #after splitting we have also in list empty strings (delimited by \\t)\n",
        "        #we select only names\n",
        "        if x!='':\n",
        "            vertices.append(x)\n",
        "    fl.close()\n",
        "    return vertices\n",
        "\n",
        "vertices = read_vertices()\n"
      ],
      "metadata": {
        "id": "PNiJzG-hQFog"
      },
      "execution_count": null,
      "outputs": []
    },
    {
      "cell_type": "code",
      "source": [
        "def read_rel_matrix(fl = open('/content/drive/MyDrive/matematica/matrix.txt', 'r'), \n",
        "                    raw = [], rel_matrix = []):\n",
        "    for i, f in enumerate(fl):\n",
        "        #if first line, pass\n",
        "        if i==0:\n",
        "            continue\n",
        "        else:\n",
        "            #extract boolean values, line by line\n",
        "            line_txt = f.split()\n",
        "            for x in line_txt:\n",
        "                if x=='0' or x=='1':\n",
        "                    raw.append(int(x))\n",
        "            rel_matrix.append(raw)\n",
        "            raw = []\n",
        "    fl.close()\n",
        "    return rel_matrix\n",
        "\n",
        "rel_matrix = read_rel_matrix()"
      ],
      "metadata": {
        "id": "RrGM215nQPhg"
      },
      "execution_count": null,
      "outputs": []
    },
    {
      "cell_type": "code",
      "source": [
        "#Read graph's edges\n",
        "def read_edges(rel_matrix, edges = []):\n",
        "    for i in range(20):\n",
        "        for j in range(20):\n",
        "            if rel_matrix[i][j]==1:\n",
        "                edges.append((vertices[i], vertices[j]))\n",
        "    return edges\n",
        "\n",
        "edges = read_edges(rel_matrix)"
      ],
      "metadata": {
        "id": "NmWs7XlUQpSw"
      },
      "execution_count": null,
      "outputs": []
    },
    {
      "cell_type": "code",
      "source": [
        "#Count nr of friends for each person:\n",
        "def count_friends(edges, nr_friends={}):\n",
        "    for pair in edges:\n",
        "        if pair[0] not in nr_friends:\n",
        "            nr_friends.update({pair[0] : 1})\n",
        "        else:\n",
        "            nr_friends[pair[0]] += 1\n",
        "    return nr_friends\n",
        "\n",
        "nr_friends = count_friends(edges)"
      ],
      "metadata": {
        "id": "kMaqW0smQ0Tn"
      },
      "execution_count": null,
      "outputs": []
    },
    {
      "cell_type": "code",
      "source": [
        "#Sort people by nr of friends\n",
        "def sort_by_nr_friends(nr_friends):\n",
        "    return dict(sorted(nr_friends.items(), key = lambda x: x[1], reverse = True))"
      ],
      "metadata": {
        "id": "MVEHeLO0RD_p"
      },
      "execution_count": null,
      "outputs": []
    },
    {
      "cell_type": "code",
      "source": [
        "nr_friends = sort_by_nr_friends(nr_friends)\n",
        "\n",
        "print(f'Person with most friends:') \n",
        "print(f'{list(nr_friends.keys())[0]}')"
      ],
      "metadata": {
        "colab": {
          "base_uri": "https://localhost:8080/"
        },
        "id": "HKensCwCRO5k",
        "outputId": "3ae69d86-4285-42b4-c132-c5df3f85b9e3"
      },
      "execution_count": null,
      "outputs": [
        {
          "output_type": "stream",
          "name": "stdout",
          "text": [
            "Person with most friends:\n",
            "Corrin Tally\n"
          ]
        }
      ]
    },
    {
      "cell_type": "markdown",
      "source": [
        "# **3.2 Sort**\n",
        "Sort all the people by the number of friends."
      ],
      "metadata": {
        "id": "qWfUH5ykRkzk"
      }
    },
    {
      "cell_type": "code",
      "source": [
        "print('People sorted by the number of friends:')\n",
        "for key, value in nr_friends.items():\n",
        "    if len(key) < 16:\n",
        "        print(\"{}\\t\\t{}\".format(key, value))\n",
        "    else:\n",
        "        print(\"{}\\t{}\".format(key, value))"
      ],
      "metadata": {
        "colab": {
          "base_uri": "https://localhost:8080/"
        },
        "id": "6WI5ypr6RTEa",
        "outputId": "8df63fe4-222d-43f8-dc1a-5a037c82b4ed"
      },
      "execution_count": null,
      "outputs": [
        {
          "output_type": "stream",
          "name": "stdout",
          "text": [
            "People sorted by the number of friends:\n",
            "Corrin Tally\t\t11\n",
            "Ellie Francese\t\t11\n",
            "Augustine Golub\t\t10\n",
            "Caleb Hobby\t\t7\n",
            "Leandro Eagan\t\t7\n",
            "Clarence Stalker\t6\n",
            "Lili Houghton\t\t6\n",
            "Sammie Womac\t\t6\n",
            "Pearlie Moffet\t\t6\n",
            "Cruz Perna\t\t6\n",
            "Lorean Simcox\t\t6\n",
            "Monet Mccoy\t\t5\n",
            "Angila Ellinger\t\t5\n",
            "Marita Tegeler\t\t5\n",
            "Tiny Parkhurst\t\t4\n",
            "Alta Kennan\t\t2\n",
            "Otilia Laxson\t\t2\n",
            "Elinore Orsborn\t\t2\n",
            "Rebbecca Charlton\t2\n",
            "Jarred Marrow\t\t1\n"
          ]
        }
      ]
    },
    {
      "cell_type": "markdown",
      "source": [
        "# **3.3 Let's do ratings**\n",
        "How to do that? Well, each person in the graph is connected to everyone else at some level.\n",
        "Therefore, each person will have a list of connections which is as long as the total list of\n",
        "people in the graph (in our case, 20). You then have to compute the shortest path from each\n",
        "of the nodes to each of the other nodes.\n",
        "For example, let’s say that you found that from node 0 you can reach node 3 in 5 steps (that\n",
        "is, the shortest path connecting nodes 0 and 3 has 5 steps). That means that node 3 will be\n",
        "a connection of level 5 to node 0 and will therefore contribute to 0 with 4 points.\n",
        "\n",
        "As a procedure, you can take each item n and then compute the distances between *n* and all\n",
        "the other vertices of the graph. You can use these distances to compute the value that is\n",
        "added by each of the other *n* − 1 vertices to *n*. Sum it and you’ll have the value of vertex *n*.\n",
        "\n",
        "In order to find the shortest path between two vertices, you’ll have to use Dijkstra's algorithm.\n",
        "\n",
        "You can find plenty of implementations of that algorithm online.\n",
        "Compute the points for each person in our network. Let’s call it ”Rating”"
      ],
      "metadata": {
        "id": "GZEHZgUnR-uX"
      }
    },
    {
      "cell_type": "code",
      "source": [
        "#Create a graph in form of dictionary from previously read edges\n",
        "#G = {vertex1:{neighbour_vertex1: 1, neighbour_vertex2: 1, ...}, vertex2:{...}, ...}\n",
        "def create_relationship_graph(edges, G = {}):\n",
        "    for edge in edges:\n",
        "        if edge[0] not in G:\n",
        "            G[edge[0]] = {edge[1]: 1}\n",
        "        else:\n",
        "            G[edge[0]][edge[1]] = 1\n",
        "    return G\n",
        "\n",
        "G = create_relationship_graph(edges)"
      ],
      "metadata": {
        "id": "DipbcFeARz4F"
      },
      "execution_count": null,
      "outputs": []
    },
    {
      "cell_type": "code",
      "source": [
        "#Dijkstra algorithm implementation which outputs the shortest distances\n",
        "#between start vertex and other ones\n",
        "def dijkstra(G, start):\n",
        "    Q = deque()\n",
        "    s = {}\n",
        "    s[start] = 0\n",
        "    Q.append(start)\n",
        "    while Q:\n",
        "        v = Q.popleft()\n",
        "        for u in G[v]:\n",
        "            if u not in s or s[v] + G[v][u] < s[u]:\n",
        "                s[u] = s[v] + G[v][u]\n",
        "                Q.append(u)\n",
        "    return s"
      ],
      "metadata": {
        "id": "S9kZ0t3GSkv-"
      },
      "execution_count": null,
      "outputs": []
    },
    {
      "cell_type": "code",
      "source": [
        "#Find rating for each person \n",
        "def find_rating(G, vertices, rating = {}):\n",
        "    for person in vertices:\n",
        "        edge_separate_ratings = dijkstra(G, person)\n",
        "        total_rating = 0\n",
        "        for value in edge_separate_ratings.values():\n",
        "            total_rating += value\n",
        "        rating.update({person: total_rating})\n",
        "    return rating\n"
      ],
      "metadata": {
        "id": "_5xTuvr0TQeB"
      },
      "execution_count": null,
      "outputs": []
    },
    {
      "cell_type": "code",
      "source": [
        "rating = find_rating(G, vertices)\n",
        "\n",
        "print(\"Rating for all people:\")\n",
        "for key, value in rating.items():\n",
        "    if len(key) < 16:\n",
        "        print(\"{}\\t\\t{}\".format(key, value))\n",
        "    else:\n",
        "        print(\"{}\\t{}\".format(key, value))"
      ],
      "metadata": {
        "colab": {
          "base_uri": "https://localhost:8080/"
        },
        "id": "Zr4tNuUKT3hE",
        "outputId": "bf0208a2-3bcc-4350-d078-947120724943"
      },
      "execution_count": null,
      "outputs": [
        {
          "output_type": "stream",
          "name": "stdout",
          "text": [
            "Rating for all people:\n",
            "Caleb Hobby\t\t32\n",
            "Alta Kennan\t\t46\n",
            "Corrin Tally\t\t30\n",
            "Leandro Eagan\t\t34\n",
            "Otilia Laxson\t\t49\n",
            "Ellie Francese\t\t27\n",
            "Augustine Golub\t\t31\n",
            "Elinore Orsborn\t\t49\n",
            "Clarence Stalker\t37\n",
            "Lili Houghton\t\t36\n",
            "Monet Mccoy\t\t39\n",
            "Angila Ellinger\t\t36\n",
            "Sammie Womac\t\t36\n",
            "Tiny Parkhurst\t\t40\n",
            "Pearlie Moffet\t\t32\n",
            "Cruz Perna\t\t35\n",
            "Rebbecca Charlton\t42\n",
            "Marita Tegeler\t\t37\n",
            "Jarred Marrow\t\t50\n",
            "Lorean Simcox\t\t32\n"
          ]
        }
      ]
    },
    {
      "cell_type": "markdown",
      "source": [
        "# **3.4 Influential people**\n",
        "Let’s say that each of these people has a certain rate of posting content. Obviously, people\n",
        "who communicate more are much more influential. Suppose that you need to promote a new\n",
        "brand using social media. We found out how often each of these 20 people writes something\n",
        "on their walls. You can find it in influence.txt\n",
        "\n",
        "Whom of these people will you contact? Why? Be advised that not only the frequency of\n",
        "posting matters, but also the number of friends!\n",
        "\n",
        "Use the data from the previous exercise and find the new ”Rating” for each person by\n",
        "multiplying it with 0.5 of the posting rate.\n",
        "\n",
        "Please sort the people by the newly computed rating."
      ],
      "metadata": {
        "id": "--8IzSzPUX5-"
      }
    },
    {
      "cell_type": "code",
      "source": [
        "fl = open('/content/drive/MyDrive/matematica/influence.txt', 'r')\n",
        "def new_rating(fl, rating):\n",
        "    for line in fl:\n",
        "        split_line = re.split(' : |\\n', line)\n",
        "        rating[split_line[0]] *= 0.5*float(split_line[1])\n",
        "    fl.close()\n",
        "    return rating\n",
        "\n",
        "new_brute_rating = new_rating(fl, rating)"
      ],
      "metadata": {
        "id": "k1O9uOZjU-w5"
      },
      "execution_count": null,
      "outputs": []
    },
    {
      "cell_type": "code",
      "source": [
        "#Sort people by new rating\n",
        "def sort_by_rating(rating):\n",
        "    return dict(sorted(rating.items(), key = lambda x: x[1], reverse = True))"
      ],
      "metadata": {
        "id": "Z4vXFSQNVNLs"
      },
      "execution_count": null,
      "outputs": []
    },
    {
      "cell_type": "code",
      "source": [
        "print(\"People sorted by new rating:\")\n",
        "new_ratings = sort_by_rating(rating)\n",
        "for key, value in new_ratings.items():\n",
        "    if len(key) < 16:\n",
        "        print(\"{}\\t\\t{}\".format(key, value))\n",
        "    else:\n",
        "        print(\"{}\\t{}\".format(key, value))"
      ],
      "metadata": {
        "colab": {
          "base_uri": "https://localhost:8080/"
        },
        "id": "YlRLMRNmVSqW",
        "outputId": "53acf027-cc74-4de4-d537-7356a29ebcca"
      },
      "execution_count": null,
      "outputs": [
        {
          "output_type": "stream",
          "name": "stdout",
          "text": [
            "People sorted by new rating:\n",
            "Alta Kennan\t\t227.70000000000002\n",
            "Jarred Marrow\t\t191.25\n",
            "Tiny Parkhurst\t\t169.0\n",
            "Rebbecca Charlton\t161.70000000000002\n",
            "Sammie Womac\t\t153.0\n",
            "Angila Ellinger\t\t148.5\n",
            "Marita Tegeler\t\t139.21249999999998\n",
            "Corrin Tally\t\t128.62500000000003\n",
            "Leandro Eagan\t\t113.05000000000001\n",
            "Otilia Laxson\t\t110.86250000000001\n",
            "Lorean Simcox\t\t110.39999999999999\n",
            "Ellie Francese\t\t110.02499999999998\n",
            "Monet Mccoy\t\t108.22500000000001\n",
            "Elinore Orsborn\t\t107.80000000000001\n",
            "Lili Houghton\t\t99.0\n",
            "Cruz Perna\t\t91.875\n",
            "Augustine Golub\t\t87.57499999999999\n",
            "Clarence Stalker\t64.2875\n",
            "Pearlie Moffet\t\t52.400000000000006\n",
            "Caleb Hobby\t\t44.400000000000006\n"
          ]
        }
      ]
    },
    {
      "cell_type": "markdown",
      "source": [
        "# **3.5 Analyze your content**\n",
        "You are publishing a book and would like to promote it through the use of social media. The\n",
        "book’s title is ”From T-Rex to Multi Universes: How the Internet has Changed Politics, Art\n",
        "and Cute Cats.” You have done some research in the world’s most popular social network\n",
        "and have found that the range of interests is stored in interests.txt\n",
        "\n",
        "Analyze your title and see what specter of interests is your book marketable to."
      ],
      "metadata": {
        "id": "Mhv3XWmRVimL"
      }
    },
    {
      "cell_type": "code",
      "source": [
        "fl = open('/content/drive/MyDrive/matematica/interests.txt', 'r')\n",
        "name_book = 'From T-Rex to Multi Universes: How the Internet has Changed Politics, Art and Cute Cats.'"
      ],
      "metadata": {
        "id": "58Ale9l7VqhY"
      },
      "execution_count": null,
      "outputs": []
    },
    {
      "cell_type": "code",
      "source": [
        "#Each word from title is splitted separately\n",
        "words_title = re.split(',|:| ', name_book)"
      ],
      "metadata": {
        "id": "vpEPTS1yVwkJ"
      },
      "execution_count": null,
      "outputs": []
    },
    {
      "cell_type": "code",
      "source": [
        "def find_similar_interests(fl, words_title, similar_interests = []):\n",
        "    #Each interest is read from interests.txt\n",
        "    for line in fl:\n",
        "        interest = re.split('\\n', line)\n",
        "        #If an interest is found in title, it is encounted\n",
        "        if interest[0] in words_title:\n",
        "            similar_interests.append(interest[0])\n",
        "    fl.close()\n",
        "    return similar_interests"
      ],
      "metadata": {
        "id": "Rxf4bbIpV4jv"
      },
      "execution_count": null,
      "outputs": []
    },
    {
      "cell_type": "code",
      "source": [
        "specter_of_interests = find_similar_interests(fl, words_title)\n",
        "print(\"Similar interests:\")\n",
        "print(*specter_of_interests, sep='\\n')"
      ],
      "metadata": {
        "colab": {
          "base_uri": "https://localhost:8080/"
        },
        "id": "8TuMuYu8WAhP",
        "outputId": "e0e1a2a4-1864-469d-ae23-9b867fb90d67"
      },
      "execution_count": null,
      "outputs": [
        {
          "output_type": "stream",
          "name": "stdout",
          "text": [
            "Similar interests:\n",
            "Internet\n",
            "T-Rex\n",
            "Art\n",
            "Politics\n"
          ]
        }
      ]
    },
    {
      "cell_type": "markdown",
      "source": [
        "# **3.6 Promote it**\n",
        "We have provided you with a list of interests of each of these people. You can find it in\n",
        "interests.txt.\n",
        "\n",
        "Considering the set of interests you have chosen, who of them would you market the book\n",
        "to? Let’s say that a person has 5 of her interests coinciding with your books and she has a\n",
        "Rating of 346. Multiply her rating with the 0.2 * coinciding interests to see a final score. Sort\n",
        "the people by this final score.\n",
        "\n",
        "Provide us with a list of 5 people we should contact to make your book a bestseller! Please\n",
        "use the names found in people_interests.txt."
      ],
      "metadata": {
        "id": "D8ca2yBkWSyg"
      }
    },
    {
      "cell_type": "code",
      "source": [
        "fl = open('/content/drive/MyDrive/matematica/people_interests.txt', 'r')"
      ],
      "metadata": {
        "id": "FauSYiv9Wai5"
      },
      "execution_count": null,
      "outputs": []
    },
    {
      "cell_type": "code",
      "source": [
        "#Create a dictionary with people's interests from people_interests.txt\n",
        "def find_people_interests(fl, people_interests = {}):\n",
        "    for line in fl:\n",
        "        my_str = re.split(' : |\\n', line)\n",
        "        people_interests.update({my_str[0]: my_str[1].split()})     \n",
        "    fl.close()\n",
        "    return people_interests\n",
        "\n",
        "people_interests = find_people_interests(fl)\n",
        "print(people_interests)"
      ],
      "metadata": {
        "colab": {
          "base_uri": "https://localhost:8080/"
        },
        "id": "pqpR6XqQWnfr",
        "outputId": "7b2f3ae7-7104-42d9-c79f-7d7071989895"
      },
      "execution_count": null,
      "outputs": [
        {
          "output_type": "stream",
          "name": "stdout",
          "text": [
            "{'Caleb Hobby': ['Music', 'Bieber', 'Internet', 'Movies'], 'Alta Kennan': ['Programming', 'T-Rex', 'Computers', 'Art'], 'Corrin Tally': ['Computers', 'Books', 'Football'], 'Leandro Eagan': ['Football', 'Cats'], 'Otilia Laxson': ['Internet', 'Videogames'], 'Ellie Francese': ['Programming', 'Movies', 'Cats'], 'Augustine Golub': ['Planes', 'Internet'], 'Elinore Orsborn': ['Cars', 'Internet'], 'Clarence Stalker': ['Movies', 'Planes'], 'Lili Houghton': ['Theatre', 'Computers'], 'Monet Mccoy': ['Internet', 'Theatre', 'Books'], 'Angila Ellinger': ['Books', 'Cats', 'Programming'], 'Sammie Womac': ['Videogames', 'Bieber', 'Football'], 'Tiny Parkhurst': ['Computers', 'Farming'], 'Pearlie Moffet': ['Theatre', 'Cars', 'Videogames', 'Politics'], 'Cruz Perna': ['Farming', 'Internet'], 'Rebbecca Charlton': ['Beer', 'Theatre'], 'Marita Tegeler': ['Farming', 'Cats', 'Books', 'Internet'], 'Jarred Marrow': ['Programming', 'Theatre'], 'Lorean Simcox': ['Farming', 'Computers']}\n"
          ]
        }
      ]
    },
    {
      "cell_type": "code",
      "source": [
        "def find_final_rating(people_interests, new_brute_rating, coinciding_ratings=0):\n",
        "    new_new_rating = dict(new_brute_rating)         #create a new dictionary for new ratings\n",
        "    for key in people_interests.keys():             #for every person\n",
        "        for interest in people_interests[key]:\n",
        "            if interest in words_title:             #if an interest coincides with one from book's title\n",
        "                coinciding_ratings += 1             #it is encounted\n",
        "        new_new_rating[key] = new_new_rating[key]*0.2*coinciding_ratings    #after finding all similarities, the final rating is computed like in 3.6\n",
        "    return new_new_rating"
      ],
      "metadata": {
        "id": "CrpAJkOLWs9F"
      },
      "execution_count": null,
      "outputs": []
    },
    {
      "cell_type": "code",
      "source": [
        "new_new_rating = find_final_rating(people_interests, new_brute_rating)\n",
        "\n",
        "#People sorted by final rating\n",
        "print(\"People sorted by final rating:\")\n",
        "sorted_new_new_rating = sort_by_rating(new_new_rating)\n",
        "\n",
        "for key, value in sorted_new_new_rating.items():\n",
        "    if len(key) < 16:\n",
        "        print(\"{}\\t\\t{}\".format(key, value))\n",
        "    else:\n",
        "        print(\"{}\\t{}\".format(key, value))\n"
      ],
      "metadata": {
        "colab": {
          "base_uri": "https://localhost:8080/"
        },
        "id": "AdA2KL2nWzc2",
        "outputId": "01b4dc76-c89d-44f0-bdca-aabf3d130964"
      },
      "execution_count": null,
      "outputs": [
        {
          "output_type": "stream",
          "name": "stdout",
          "text": [
            "People sorted by final rating:\n",
            "Jarred Marrow\t\t382.5\n",
            "Rebbecca Charlton\t291.06000000000006\n",
            "Marita Tegeler\t\t278.42499999999995\n",
            "Tiny Parkhurst\t\t236.60000000000002\n",
            "Lorean Simcox\t\t220.79999999999998\n",
            "Sammie Womac\t\t214.20000000000002\n",
            "Angila Ellinger\t\t207.90000000000003\n",
            "Cruz Perna\t\t165.375\n",
            "Monet Mccoy\t\t151.51500000000001\n",
            "Alta Kennan\t\t136.62\n",
            "Elinore Orsborn\t\t129.36\n",
            "Lili Houghton\t\t118.80000000000001\n",
            "Otilia Laxson\t\t88.69000000000001\n",
            "Ellie Francese\t\t88.01999999999998\n",
            "Augustine Golub\t\t87.57499999999999\n",
            "Pearlie Moffet\t\t83.84000000000002\n",
            "Corrin Tally\t\t77.17500000000003\n",
            "Clarence Stalker\t77.145\n",
            "Leandro Eagan\t\t67.83000000000001\n",
            "Caleb Hobby\t\t8.88\n"
          ]
        }
      ]
    },
    {
      "cell_type": "code",
      "source": [
        "print('People should be contacted for making the book a bestseller:')  \n",
        "for i in range(5):\n",
        "    print(list(sorted_new_new_rating.keys())[i])"
      ],
      "metadata": {
        "colab": {
          "base_uri": "https://localhost:8080/"
        },
        "id": "81OuMxEYW67F",
        "outputId": "c3dd3ab6-2073-40a4-9bed-710815f2f191"
      },
      "execution_count": null,
      "outputs": [
        {
          "output_type": "stream",
          "name": "stdout",
          "text": [
            "People should be contacted for making the book a bestseller:\n",
            "Jarred Marrow\n",
            "Rebbecca Charlton\n",
            "Marita Tegeler\n",
            "Tiny Parkhurst\n",
            "Lorean Simcox\n"
          ]
        }
      ]
    },
    {
      "cell_type": "code",
      "source": [
        ""
      ],
      "metadata": {
        "id": "Rv2lFO6AW_rR"
      },
      "execution_count": null,
      "outputs": []
    }
  ]
}